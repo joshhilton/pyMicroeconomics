{
    "cells": [
        {
            "cell_type": "markdown",
            "metadata": {},
            "source": [
                "# pyMicroeconomics Example\n",
                "\n",
                "This notebook demonstrates the basic functionality of pyMicroeconomics for analyzing market equilibrium."
            ]
        },
        {
            "cell_type": "code",
            "execution_count": 1,
            "metadata": {},
            "outputs": [],
            "source": [
                "import pyMicroeconomics as pm\n",
                "import matplotlib.pyplot as plt\n",
                "import numpy as np"
            ]
        },
        {
            "cell_type": "markdown",
            "metadata": {},
            "source": [
                "## 1. Basic Market Equilibrium\n",
                "\n",
                "Let's start with a simple linear demand and supply example."
            ]
        },
        {
            "cell_type": "code",
            "execution_count": 2,
            "metadata": {},
            "outputs": [
                {
                    "data": {
                        "text/html": [
                            "\n",
                            "        <div style=\"margin: 20px;\">\n",
                            "            <h3 style=\"text-align: center; margin-bottom: 15px;\">Market Equilibrium Results</h3>\n",
                            "            <table style=\"border-collapse: collapse; width: 100%; margin: auto;\">\n",
                            "        "
                        ],
                        "text/plain": [
                            "<IPython.core.display.HTML object>"
                        ]
                    },
                    "metadata": {},
                    "output_type": "display_data"
                },
                {
                    "data": {
                        "text/html": [
                            "\n",
                            "                <tr style=\"border-bottom: 1px solid #ddd;\">\n",
                            "                    <td style=\"padding: 12px; text-align: right; width: 40%; font-weight: bold; color: #444;\">\n",
                            "                        Equilibrium Price:\n",
                            "                    </td>\n",
                            "                    <td style=\"padding: 12px; text-align: left;\">\n",
                            "                "
                        ],
                        "text/plain": [
                            "<IPython.core.display.HTML object>"
                        ]
                    },
                    "metadata": {},
                    "output_type": "display_data"
                },
                {
                    "data": {
                        "text/latex": [
                            "$\\displaystyle \\frac{a - c}{b + d}$"
                        ],
                        "text/plain": [
                            "<IPython.core.display.Math object>"
                        ]
                    },
                    "metadata": {},
                    "output_type": "display_data"
                },
                {
                    "data": {
                        "text/html": [
                            "</td></tr>"
                        ],
                        "text/plain": [
                            "<IPython.core.display.HTML object>"
                        ]
                    },
                    "metadata": {},
                    "output_type": "display_data"
                },
                {
                    "data": {
                        "text/html": [
                            "\n",
                            "                <tr style=\"border-bottom: 1px solid #ddd;\">\n",
                            "                    <td style=\"padding: 12px; text-align: right; width: 40%; font-weight: bold; color: #444;\">\n",
                            "                        Equilibrium Quantity:\n",
                            "                    </td>\n",
                            "                    <td style=\"padding: 12px; text-align: left;\">\n",
                            "                "
                        ],
                        "text/plain": [
                            "<IPython.core.display.HTML object>"
                        ]
                    },
                    "metadata": {},
                    "output_type": "display_data"
                },
                {
                    "data": {
                        "text/latex": [
                            "$\\displaystyle \\frac{a d + b c}{b + d}$"
                        ],
                        "text/plain": [
                            "<IPython.core.display.Math object>"
                        ]
                    },
                    "metadata": {},
                    "output_type": "display_data"
                },
                {
                    "data": {
                        "text/html": [
                            "</td></tr>"
                        ],
                        "text/plain": [
                            "<IPython.core.display.HTML object>"
                        ]
                    },
                    "metadata": {},
                    "output_type": "display_data"
                },
                {
                    "data": {
                        "text/html": [
                            "\n",
                            "                <tr style=\"border-bottom: 1px solid #ddd;\">\n",
                            "                    <td style=\"padding: 12px; text-align: right; width: 40%; font-weight: bold; color: #444;\">\n",
                            "                        Consumer Surplus:\n",
                            "                    </td>\n",
                            "                    <td style=\"padding: 12px; text-align: left;\">\n",
                            "                "
                        ],
                        "text/plain": [
                            "<IPython.core.display.HTML object>"
                        ]
                    },
                    "metadata": {},
                    "output_type": "display_data"
                },
                {
                    "data": {
                        "text/latex": [
                            "$\\displaystyle \\frac{\\left(a d + b c\\right)^{2}}{2 b \\left(b + d\\right)^{2}}$"
                        ],
                        "text/plain": [
                            "<IPython.core.display.Math object>"
                        ]
                    },
                    "metadata": {},
                    "output_type": "display_data"
                },
                {
                    "data": {
                        "text/html": [
                            "</td></tr>"
                        ],
                        "text/plain": [
                            "<IPython.core.display.HTML object>"
                        ]
                    },
                    "metadata": {},
                    "output_type": "display_data"
                },
                {
                    "data": {
                        "text/html": [
                            "\n",
                            "                <tr style=\"border-bottom: 1px solid #ddd;\">\n",
                            "                    <td style=\"padding: 12px; text-align: right; width: 40%; font-weight: bold; color: #444;\">\n",
                            "                        Producer Surplus:\n",
                            "                    </td>\n",
                            "                    <td style=\"padding: 12px; text-align: left;\">\n",
                            "                "
                        ],
                        "text/plain": [
                            "<IPython.core.display.HTML object>"
                        ]
                    },
                    "metadata": {},
                    "output_type": "display_data"
                },
                {
                    "data": {
                        "text/latex": [
                            "$\\displaystyle \\frac{\\left(a d + b c\\right)^{2}}{2 d \\left(b + d\\right)^{2}}$"
                        ],
                        "text/plain": [
                            "<IPython.core.display.Math object>"
                        ]
                    },
                    "metadata": {},
                    "output_type": "display_data"
                },
                {
                    "data": {
                        "text/html": [
                            "</td></tr>"
                        ],
                        "text/plain": [
                            "<IPython.core.display.HTML object>"
                        ]
                    },
                    "metadata": {},
                    "output_type": "display_data"
                },
                {
                    "data": {
                        "text/html": [
                            "\n",
                            "                <tr style=\"border-bottom: 1px solid #ddd;\">\n",
                            "                    <td style=\"padding: 12px; text-align: right; width: 40%; font-weight: bold; color: #444;\">\n",
                            "                        Total Surplus:\n",
                            "                    </td>\n",
                            "                    <td style=\"padding: 12px; text-align: left;\">\n",
                            "                "
                        ],
                        "text/plain": [
                            "<IPython.core.display.HTML object>"
                        ]
                    },
                    "metadata": {},
                    "output_type": "display_data"
                },
                {
                    "data": {
                        "text/latex": [
                            "$\\displaystyle \\frac{\\left(a d + b c\\right)^{2}}{2 b d \\left(b + d\\right)}$"
                        ],
                        "text/plain": [
                            "<IPython.core.display.Math object>"
                        ]
                    },
                    "metadata": {},
                    "output_type": "display_data"
                },
                {
                    "data": {
                        "text/html": [
                            "</td></tr>"
                        ],
                        "text/plain": [
                            "<IPython.core.display.HTML object>"
                        ]
                    },
                    "metadata": {},
                    "output_type": "display_data"
                },
                {
                    "data": {
                        "text/html": [
                            "\n",
                            "                <tr style=\"border-bottom: 1px solid #ddd;\">\n",
                            "                    <td style=\"padding: 12px; text-align: right; width: 40%; font-weight: bold; color: #444;\">\n",
                            "                        Demand Equation:\n",
                            "                    </td>\n",
                            "                    <td style=\"padding: 12px; text-align: left;\">\n",
                            "                "
                        ],
                        "text/plain": [
                            "<IPython.core.display.HTML object>"
                        ]
                    },
                    "metadata": {},
                    "output_type": "display_data"
                },
                {
                    "data": {
                        "text/latex": [
                            "$\\displaystyle q = a - b p$"
                        ],
                        "text/plain": [
                            "<IPython.core.display.Math object>"
                        ]
                    },
                    "metadata": {},
                    "output_type": "display_data"
                },
                {
                    "data": {
                        "text/html": [
                            "</td></tr>"
                        ],
                        "text/plain": [
                            "<IPython.core.display.HTML object>"
                        ]
                    },
                    "metadata": {},
                    "output_type": "display_data"
                },
                {
                    "data": {
                        "text/html": [
                            "\n",
                            "                <tr style=\"border-bottom: 1px solid #ddd;\">\n",
                            "                    <td style=\"padding: 12px; text-align: right; width: 40%; font-weight: bold; color: #444;\">\n",
                            "                        Supply Equation:\n",
                            "                    </td>\n",
                            "                    <td style=\"padding: 12px; text-align: left;\">\n",
                            "                "
                        ],
                        "text/plain": [
                            "<IPython.core.display.HTML object>"
                        ]
                    },
                    "metadata": {},
                    "output_type": "display_data"
                },
                {
                    "data": {
                        "text/latex": [
                            "$\\displaystyle q = c + d p$"
                        ],
                        "text/plain": [
                            "<IPython.core.display.Math object>"
                        ]
                    },
                    "metadata": {},
                    "output_type": "display_data"
                },
                {
                    "data": {
                        "text/html": [
                            "</td></tr>"
                        ],
                        "text/plain": [
                            "<IPython.core.display.HTML object>"
                        ]
                    },
                    "metadata": {},
                    "output_type": "display_data"
                },
                {
                    "data": {
                        "text/html": [
                            "\n",
                            "                <tr style=\"border-bottom: 1px solid #ddd;\">\n",
                            "                    <td style=\"padding: 12px; text-align: right; width: 40%; font-weight: bold; color: #444;\">\n",
                            "                        Inverse Demand Function:\n",
                            "                    </td>\n",
                            "                    <td style=\"padding: 12px; text-align: left;\">\n",
                            "                "
                        ],
                        "text/plain": [
                            "<IPython.core.display.HTML object>"
                        ]
                    },
                    "metadata": {},
                    "output_type": "display_data"
                },
                {
                    "data": {
                        "text/latex": [
                            "$\\displaystyle Eq(p, (a - q)/b)$"
                        ],
                        "text/plain": [
                            "<IPython.core.display.Math object>"
                        ]
                    },
                    "metadata": {},
                    "output_type": "display_data"
                },
                {
                    "data": {
                        "text/html": [
                            "</td></tr>"
                        ],
                        "text/plain": [
                            "<IPython.core.display.HTML object>"
                        ]
                    },
                    "metadata": {},
                    "output_type": "display_data"
                },
                {
                    "data": {
                        "text/html": [
                            "\n",
                            "                <tr style=\"border-bottom: 1px solid #ddd;\">\n",
                            "                    <td style=\"padding: 12px; text-align: right; width: 40%; font-weight: bold; color: #444;\">\n",
                            "                        Demand Type:\n",
                            "                    </td>\n",
                            "                    <td style=\"padding: 12px; text-align: left;\">\n",
                            "                        linear_demand\n",
                            "                    </td>\n",
                            "                </tr>\n",
                            "                "
                        ],
                        "text/plain": [
                            "<IPython.core.display.HTML object>"
                        ]
                    },
                    "metadata": {},
                    "output_type": "display_data"
                },
                {
                    "data": {
                        "text/html": [
                            "\n",
                            "                <tr style=\"border-bottom: 1px solid #ddd;\">\n",
                            "                    <td style=\"padding: 12px; text-align: right; width: 40%; font-weight: bold; color: #444;\">\n",
                            "                        Supply Type:\n",
                            "                    </td>\n",
                            "                    <td style=\"padding: 12px; text-align: left;\">\n",
                            "                        linear_supply\n",
                            "                    </td>\n",
                            "                </tr>\n",
                            "                "
                        ],
                        "text/plain": [
                            "<IPython.core.display.HTML object>"
                        ]
                    },
                    "metadata": {},
                    "output_type": "display_data"
                },
                {
                    "data": {
                        "text/html": [
                            "\n",
                            "            </table>\n",
                            "        </div>\n",
                            "        "
                        ],
                        "text/plain": [
                            "<IPython.core.display.HTML object>"
                        ]
                    },
                    "metadata": {},
                    "output_type": "display_data"
                }
            ],
            "source": [
                "# Create demand curve\n",
                "demand = pm.linear_demand()\n",
                "\n",
                "# Create supply curve:\n",
                "supply = pm.linear_supply()\n",
                "\n",
                "# Calculate equilibrium\n",
                "equilibrium = pm.market_equilibrium(demand, supply)\n",
                "\n",
                "# Display results\n",
                "pm.display_equilibrium(equilibrium)"
            ]
        },
        {
            "cell_type": "markdown",
            "metadata": {},
            "source": [
                "## 2. Interactive Market Plot\n",
                "\n",
                "We can visualize the market equilibrium with an interactive plot."
            ]
        },
        {
            "cell_type": "code",
            "execution_count": null,
            "metadata": {},
            "outputs": [],
            "source": [
                "pm.plot_equilibrium(equilibrium)"
            ]
        },
        {
            "cell_type": "markdown",
            "metadata": {},
            "source": [
                "## 3. Different Types of Demand and Supply Curves\n",
                "\n",
                "pyMicroeconomics supports various functional forms."
            ]
        },
        {
            "cell_type": "code",
            "execution_count": null,
            "metadata": {},
            "outputs": [],
            "source": [
                "# Power demand: Q = 100P^(-0.5)\n",
                "power_demand = pm.power_demand(a_param=100, b_param=-0.5)\n",
                "\n",
                "# Exponential supply: Q = exp(0.05P)\n",
                "exp_supply = pm.exponential_supply(c_param=0.05, d_param=0)\n",
                "\n",
                "# Calculate and display new equilibrium\n",
                "nonlinear_eq = pm.market_equilibrium(power_demand, exp_supply)\n",
                "pm.display_equilibrium(nonlinear_eq)"
            ]
        },
        {
            "cell_type": "markdown",
            "metadata": {},
            "source": [
                "## 4. Manual Calculations\n",
                "\n",
                "We can also evaluate demand and supply at specific prices."
            ]
        },
        {
            "cell_type": "code",
            "execution_count": null,
            "metadata": {},
            "outputs": [],
            "source": [
                "test_price = 10.0\n",
                "\n",
                "# Calculate quantities\n",
                "demand_quantity = demand.evaluate(test_price)\n",
                "supply_quantity = supply.evaluate(test_price)\n",
                "\n",
                "print(f\"At price = ${test_price:.2f}:\")\n",
                "print(f\"Quantity demanded: {demand_quantity:.2f}\")\n",
                "print(f\"Quantity supplied: {supply_quantity:.2f}\")\n",
                "\n",
                "# Calculate slopes\n",
                "demand_slope = demand.get_slope(test_price)\n",
                "supply_slope = supply.get_slope(test_price)\n",
                "\n",
                "print(f\"\\nSlopes at price = ${test_price:.2f}:\")\n",
                "print(f\"Demand slope: {demand_slope:.2f}\")\n",
                "print(f\"Supply slope: {supply_slope:.2f}\")"
            ]
        },
        {
            "cell_type": "markdown",
            "metadata": {},
            "source": [
                "## 5. Market Analysis\n",
                "\n",
                "Let's analyze consumer and producer surplus."
            ]
        },
        {
            "cell_type": "code",
            "execution_count": null,
            "metadata": {},
            "outputs": [],
            "source": [
                "# Extract values from equilibrium results\n",
                "eq_price = float(equilibrium['Equilibrium_Price'])\n",
                "eq_quantity = float(equilibrium['Equilibrium_Quantity'])\n",
                "consumer_surplus = float(equilibrium['Consumer_Surplus'])\n",
                "producer_surplus = float(equilibrium['Producer_Surplus'])\n",
                "\n",
                "print(f\"Market Analysis at Equilibrium:\")\n",
                "print(f\"Equilibrium Price: ${eq_price:.2f}\")\n",
                "print(f\"Equilibrium Quantity: {eq_quantity:.2f}\")\n",
                "print(f\"Consumer Surplus: ${consumer_surplus:.2f}\")\n",
                "print(f\"Producer Surplus: ${producer_surplus:.2f}\")\n",
                "print(f\"Total Surplus: ${(consumer_surplus + producer_surplus):.2f}\")"
            ]
        },
        {
            "cell_type": "markdown",
            "metadata": {},
            "source": [
                "## 6. Custom Visualization\n",
                "\n",
                "We can create custom plots using the evaluation methods."
            ]
        },
        {
            "cell_type": "code",
            "execution_count": null,
            "metadata": {},
            "outputs": [],
            "source": [
                "# Create price range\n",
                "prices = np.linspace(0, 50, 100)\n",
                "\n",
                "# Calculate quantities\n",
                "demand_quantities = [demand.evaluate(p) for p in prices]\n",
                "supply_quantities = [supply.evaluate(p) for p in prices]\n",
                "\n",
                "# Create plot\n",
                "plt.figure(figsize=(10, 6))\n",
                "plt.plot(demand_quantities, prices, label='Demand', color='blue')\n",
                "plt.plot(supply_quantities, prices, label='Supply', color='orange')\n",
                "plt.plot([eq_quantity], [eq_price], 'ro', label='Equilibrium')\n",
                "\n",
                "plt.title('Market Equilibrium')\n",
                "plt.xlabel('Quantity')\n",
                "plt.ylabel('Price')\n",
                "plt.grid(True)\n",
                "plt.legend()\n",
                "plt.show()"
            ]
        }
    ],
    "metadata": {
        "kernelspec": {
            "display_name": "Python 3",
            "language": "python",
            "name": "python3"
        },
        "language_info": {
            "codemirror_mode": {
                "name": "ipython",
                "version": 3
            },
            "file_extension": ".py",
            "mimetype": "text/x-python",
            "name": "python",
            "nbconvert_exporter": "python",
            "pygments_lexer": "ipython3",
            "version": "3.10.15"
        }
    },
    "nbformat": 4,
    "nbformat_minor": 4
}
