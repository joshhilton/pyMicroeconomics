{
    "cells": [
        {
            "cell_type": "markdown",
            "metadata": {},
            "source": [
                "# pyMicroeconomics Example\n",
                "\n",
                "This notebook demonstrates the basic functionality of pyMicroeconomics for analyzing market equilibrium."
            ]
        },
        {
            "cell_type": "code",
            "execution_count": 7,
            "metadata": {},
            "outputs": [],
            "source": [
                "import pyMicroeconomics as pm\n",
                "import matplotlib.pyplot as plt\n",
                "import numpy as np"
            ]
        },
        {
            "cell_type": "markdown",
            "metadata": {},
            "source": [
                "## 1. Basic Market Equilibrium\n",
                "\n",
                "Let's start with a simple linear demand and supply example."
            ]
        },
        {
            "cell_type": "code",
            "execution_count": 8,
            "metadata": {},
            "outputs": [
                {
                    "data": {
                        "text/html": [
                            "\n",
                            "        <div style=\"margin: 20px;\">\n",
                            "            <h3 style=\"text-align: center; margin-bottom: 15px;\">Market Equilibrium Results</h3>\n",
                            "            <table style=\"border-collapse: collapse; width: 100%; margin: auto;\">\n",
                            "        "
                        ],
                        "text/plain": [
                            "<IPython.core.display.HTML object>"
                        ]
                    },
                    "metadata": {},
                    "output_type": "display_data"
                },
                {
                    "data": {
                        "text/html": [
                            "\n",
                            "                <tr style=\"border-bottom: 1px solid #ddd;\">\n",
                            "                    <td style=\"padding: 12px; text-align: right; width: 40%; font-weight: bold; color: #444;\">\n",
                            "                        Equilibrium Price:\n",
                            "                    </td>\n",
                            "                    <td style=\"padding: 12px; text-align: left;\">\n",
                            "                "
                        ],
                        "text/plain": [
                            "<IPython.core.display.HTML object>"
                        ]
                    },
                    "metadata": {},
                    "output_type": "display_data"
                },
                {
                    "data": {
                        "text/latex": [
                            "$\\displaystyle \\frac{a - c}{b + d}$"
                        ],
                        "text/plain": [
                            "<IPython.core.display.Math object>"
                        ]
                    },
                    "metadata": {},
                    "output_type": "display_data"
                },
                {
                    "data": {
                        "text/html": [
                            "</td></tr>"
                        ],
                        "text/plain": [
                            "<IPython.core.display.HTML object>"
                        ]
                    },
                    "metadata": {},
                    "output_type": "display_data"
                },
                {
                    "data": {
                        "text/html": [
                            "\n",
                            "                <tr style=\"border-bottom: 1px solid #ddd;\">\n",
                            "                    <td style=\"padding: 12px; text-align: right; width: 40%; font-weight: bold; color: #444;\">\n",
                            "                        Equilibrium Quantity:\n",
                            "                    </td>\n",
                            "                    <td style=\"padding: 12px; text-align: left;\">\n",
                            "                "
                        ],
                        "text/plain": [
                            "<IPython.core.display.HTML object>"
                        ]
                    },
                    "metadata": {},
                    "output_type": "display_data"
                },
                {
                    "data": {
                        "text/latex": [
                            "$\\displaystyle \\frac{a d + b c}{b + d}$"
                        ],
                        "text/plain": [
                            "<IPython.core.display.Math object>"
                        ]
                    },
                    "metadata": {},
                    "output_type": "display_data"
                },
                {
                    "data": {
                        "text/html": [
                            "</td></tr>"
                        ],
                        "text/plain": [
                            "<IPython.core.display.HTML object>"
                        ]
                    },
                    "metadata": {},
                    "output_type": "display_data"
                },
                {
                    "data": {
                        "text/html": [
                            "\n",
                            "                <tr style=\"border-bottom: 1px solid #ddd;\">\n",
                            "                    <td style=\"padding: 12px; text-align: right; width: 40%; font-weight: bold; color: #444;\">\n",
                            "                        Consumer Surplus:\n",
                            "                    </td>\n",
                            "                    <td style=\"padding: 12px; text-align: left;\">\n",
                            "                "
                        ],
                        "text/plain": [
                            "<IPython.core.display.HTML object>"
                        ]
                    },
                    "metadata": {},
                    "output_type": "display_data"
                },
                {
                    "data": {
                        "text/latex": [
                            "$\\displaystyle \\frac{\\left(a d + b c\\right)^{2}}{2 b \\left(b + d\\right)^{2}}$"
                        ],
                        "text/plain": [
                            "<IPython.core.display.Math object>"
                        ]
                    },
                    "metadata": {},
                    "output_type": "display_data"
                },
                {
                    "data": {
                        "text/html": [
                            "</td></tr>"
                        ],
                        "text/plain": [
                            "<IPython.core.display.HTML object>"
                        ]
                    },
                    "metadata": {},
                    "output_type": "display_data"
                },
                {
                    "data": {
                        "text/html": [
                            "\n",
                            "                <tr style=\"border-bottom: 1px solid #ddd;\">\n",
                            "                    <td style=\"padding: 12px; text-align: right; width: 40%; font-weight: bold; color: #444;\">\n",
                            "                        Producer Surplus:\n",
                            "                    </td>\n",
                            "                    <td style=\"padding: 12px; text-align: left;\">\n",
                            "                "
                        ],
                        "text/plain": [
                            "<IPython.core.display.HTML object>"
                        ]
                    },
                    "metadata": {},
                    "output_type": "display_data"
                },
                {
                    "data": {
                        "text/latex": [
                            "$\\displaystyle \\frac{\\left(a d + b c\\right)^{2}}{2 d \\left(b + d\\right)^{2}}$"
                        ],
                        "text/plain": [
                            "<IPython.core.display.Math object>"
                        ]
                    },
                    "metadata": {},
                    "output_type": "display_data"
                },
                {
                    "data": {
                        "text/html": [
                            "</td></tr>"
                        ],
                        "text/plain": [
                            "<IPython.core.display.HTML object>"
                        ]
                    },
                    "metadata": {},
                    "output_type": "display_data"
                },
                {
                    "data": {
                        "text/html": [
                            "\n",
                            "                <tr style=\"border-bottom: 1px solid #ddd;\">\n",
                            "                    <td style=\"padding: 12px; text-align: right; width: 40%; font-weight: bold; color: #444;\">\n",
                            "                        Total Surplus:\n",
                            "                    </td>\n",
                            "                    <td style=\"padding: 12px; text-align: left;\">\n",
                            "                "
                        ],
                        "text/plain": [
                            "<IPython.core.display.HTML object>"
                        ]
                    },
                    "metadata": {},
                    "output_type": "display_data"
                },
                {
                    "data": {
                        "text/latex": [
                            "$\\displaystyle \\frac{\\left(a d + b c\\right)^{2}}{2 b d \\left(b + d\\right)}$"
                        ],
                        "text/plain": [
                            "<IPython.core.display.Math object>"
                        ]
                    },
                    "metadata": {},
                    "output_type": "display_data"
                },
                {
                    "data": {
                        "text/html": [
                            "</td></tr>"
                        ],
                        "text/plain": [
                            "<IPython.core.display.HTML object>"
                        ]
                    },
                    "metadata": {},
                    "output_type": "display_data"
                },
                {
                    "data": {
                        "text/html": [
                            "\n",
                            "                <tr style=\"border-bottom: 1px solid #ddd;\">\n",
                            "                    <td style=\"padding: 12px; text-align: right; width: 40%; font-weight: bold; color: #444;\">\n",
                            "                        Demand Equation:\n",
                            "                    </td>\n",
                            "                    <td style=\"padding: 12px; text-align: left;\">\n",
                            "                "
                        ],
                        "text/plain": [
                            "<IPython.core.display.HTML object>"
                        ]
                    },
                    "metadata": {},
                    "output_type": "display_data"
                },
                {
                    "data": {
                        "text/latex": [
                            "$\\displaystyle q = a - b p$"
                        ],
                        "text/plain": [
                            "<IPython.core.display.Math object>"
                        ]
                    },
                    "metadata": {},
                    "output_type": "display_data"
                },
                {
                    "data": {
                        "text/html": [
                            "</td></tr>"
                        ],
                        "text/plain": [
                            "<IPython.core.display.HTML object>"
                        ]
                    },
                    "metadata": {},
                    "output_type": "display_data"
                },
                {
                    "data": {
                        "text/html": [
                            "\n",
                            "                <tr style=\"border-bottom: 1px solid #ddd;\">\n",
                            "                    <td style=\"padding: 12px; text-align: right; width: 40%; font-weight: bold; color: #444;\">\n",
                            "                        Supply Equation:\n",
                            "                    </td>\n",
                            "                    <td style=\"padding: 12px; text-align: left;\">\n",
                            "                "
                        ],
                        "text/plain": [
                            "<IPython.core.display.HTML object>"
                        ]
                    },
                    "metadata": {},
                    "output_type": "display_data"
                },
                {
                    "data": {
                        "text/latex": [
                            "$\\displaystyle q = c + d p$"
                        ],
                        "text/plain": [
                            "<IPython.core.display.Math object>"
                        ]
                    },
                    "metadata": {},
                    "output_type": "display_data"
                },
                {
                    "data": {
                        "text/html": [
                            "</td></tr>"
                        ],
                        "text/plain": [
                            "<IPython.core.display.HTML object>"
                        ]
                    },
                    "metadata": {},
                    "output_type": "display_data"
                },
                {
                    "data": {
                        "text/html": [
                            "\n",
                            "                <tr style=\"border-bottom: 1px solid #ddd;\">\n",
                            "                    <td style=\"padding: 12px; text-align: right; width: 40%; font-weight: bold; color: #444;\">\n",
                            "                        Inverse Demand Function:\n",
                            "                    </td>\n",
                            "                    <td style=\"padding: 12px; text-align: left;\">\n",
                            "                "
                        ],
                        "text/plain": [
                            "<IPython.core.display.HTML object>"
                        ]
                    },
                    "metadata": {},
                    "output_type": "display_data"
                },
                {
                    "data": {
                        "text/latex": [
                            "$\\displaystyle p = \\frac{a - q}{b}$"
                        ],
                        "text/plain": [
                            "<IPython.core.display.Math object>"
                        ]
                    },
                    "metadata": {},
                    "output_type": "display_data"
                },
                {
                    "data": {
                        "text/html": [
                            "</td></tr>"
                        ],
                        "text/plain": [
                            "<IPython.core.display.HTML object>"
                        ]
                    },
                    "metadata": {},
                    "output_type": "display_data"
                },
                {
                    "data": {
                        "text/html": [
                            "\n",
                            "                <tr style=\"border-bottom: 1px solid #ddd;\">\n",
                            "                    <td style=\"padding: 12px; text-align: right; width: 40%; font-weight: bold; color: #444;\">\n",
                            "                        Demand Type:\n",
                            "                    </td>\n",
                            "                    <td style=\"padding: 12px; text-align: left;\">\n",
                            "                        linear_demand\n",
                            "                    </td>\n",
                            "                </tr>\n",
                            "                "
                        ],
                        "text/plain": [
                            "<IPython.core.display.HTML object>"
                        ]
                    },
                    "metadata": {},
                    "output_type": "display_data"
                },
                {
                    "data": {
                        "text/html": [
                            "\n",
                            "                <tr style=\"border-bottom: 1px solid #ddd;\">\n",
                            "                    <td style=\"padding: 12px; text-align: right; width: 40%; font-weight: bold; color: #444;\">\n",
                            "                        Supply Type:\n",
                            "                    </td>\n",
                            "                    <td style=\"padding: 12px; text-align: left;\">\n",
                            "                        linear_supply\n",
                            "                    </td>\n",
                            "                </tr>\n",
                            "                "
                        ],
                        "text/plain": [
                            "<IPython.core.display.HTML object>"
                        ]
                    },
                    "metadata": {},
                    "output_type": "display_data"
                },
                {
                    "data": {
                        "text/html": [
                            "\n",
                            "            </table>\n",
                            "        </div>\n",
                            "        "
                        ],
                        "text/plain": [
                            "<IPython.core.display.HTML object>"
                        ]
                    },
                    "metadata": {},
                    "output_type": "display_data"
                }
            ],
            "source": [
                "# Create demand curve\n",
                "demand = pm.linear_demand()\n",
                "\n",
                "# Create supply curve:\n",
                "supply = pm.linear_supply()\n",
                "\n",
                "# Calculate equilibrium\n",
                "equilibrium = pm.market_equilibrium(demand, supply)\n",
                "\n",
                "# Display results\n",
                "pm.display_equilibrium(equilibrium)"
            ]
        },
        {
            "cell_type": "markdown",
            "metadata": {},
            "source": [
                "## 2. Interactive Market Plot\n",
                "\n",
                "We can visualize the market equilibrium with an interactive plot."
            ]
        },
        {
            "cell_type": "code",
            "execution_count": 9,
            "metadata": {},
            "outputs": [
                {
                    "data": {
                        "application/vnd.jupyter.widget-view+json": {
                            "model_id": "d92913e26f6545d8834b8de5e129965d",
                            "version_major": 2,
                            "version_minor": 0
                        },
                        "text/plain": [
                            "VBox(children=(VBox(children=(HTML(value='<h3>Adjust Parameters:</h3>'), VBox(children=(FloatSlider(value=10.0…"
                        ]
                    },
                    "metadata": {},
                    "output_type": "display_data"
                }
            ],
            "source": [
                "pm.plot_equilibrium(equilibrium)"
            ]
        }
    ],
    "metadata": {
        "kernelspec": {
            "display_name": "Python 3",
            "language": "python",
            "name": "python3"
        },
        "language_info": {
            "codemirror_mode": {
                "name": "ipython",
                "version": 3
            },
            "file_extension": ".py",
            "mimetype": "text/x-python",
            "name": "python",
            "nbconvert_exporter": "python",
            "pygments_lexer": "ipython3",
            "version": "3.10.15"
        }
    },
    "nbformat": 4,
    "nbformat_minor": 4
}
