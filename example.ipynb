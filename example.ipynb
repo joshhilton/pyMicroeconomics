{
    "cells": [
        {
            "cell_type": "markdown",
            "metadata": {},
            "source": [
                "# pyMicroeconomics Example\n",
                "\n",
                "This notebook demonstrates the basic functionality of pyMicroeconomics for analyzing market equilibrium."
            ]
        },
        {
            "cell_type": "code",
            "execution_count": 1,
            "metadata": {},
            "outputs": [],
            "source": [
                "import pyMicroeconomics as pm\n",
                "import matplotlib.pyplot as plt\n",
                "import numpy as np"
            ]
        },
        {
            "cell_type": "markdown",
            "metadata": {},
            "source": [
                "## 1. Basic Market Equilibrium\n",
                "\n",
                "Let's start with a simple linear demand and supply example."
            ]
        },
        {
            "cell_type": "code",
            "execution_count": 3,
            "metadata": {},
            "outputs": [
                {
                    "ename": "ValueError",
                    "evalue": "Error calculating market equilibrium: Error solving equilibrium: Validation error: Cannot convert expression to float",
                    "output_type": "error",
                    "traceback": [
                        "\u001b[0;31m---------------------------------------------------------------------------\u001b[0m",
                        "\u001b[0;31mValueError\u001b[0m                                Traceback (most recent call last)",
                        "File \u001b[0;32m/workspaces/pyMicroeconomics/src/pyMicroeconomics/market/equilibrium/solver.py:19\u001b[0m, in \u001b[0;36msolve_equilibrium\u001b[0;34m(demand, supply, params)\u001b[0m\n\u001b[1;32m     18\u001b[0m \u001b[38;5;28;01mif\u001b[39;00m \u001b[38;5;129;01mnot\u001b[39;00m is_valid:\n\u001b[0;32m---> 19\u001b[0m     \u001b[38;5;28;01mraise\u001b[39;00m \u001b[38;5;167;01mValueError\u001b[39;00m(error_msg)\n\u001b[1;32m     21\u001b[0m \u001b[38;5;66;03m# Get equations\u001b[39;00m\n",
                        "\u001b[0;31mValueError\u001b[0m: Validation error: Cannot convert expression to float",
                        "\nDuring handling of the above exception, another exception occurred:\n",
                        "\u001b[0;31mValueError\u001b[0m                                Traceback (most recent call last)",
                        "File \u001b[0;32m/workspaces/pyMicroeconomics/src/pyMicroeconomics/market/equilibrium/main.py:16\u001b[0m, in \u001b[0;36mmarket_equilibrium\u001b[0;34m(demand, supply, params)\u001b[0m\n\u001b[1;32m     14\u001b[0m \u001b[38;5;28;01mtry\u001b[39;00m:\n\u001b[1;32m     15\u001b[0m     \u001b[38;5;66;03m# Solve for equilibrium\u001b[39;00m\n\u001b[0;32m---> 16\u001b[0m     equilibrium \u001b[38;5;241m=\u001b[39m \u001b[43msolve_equilibrium\u001b[49m\u001b[43m(\u001b[49m\u001b[43mdemand\u001b[49m\u001b[43m,\u001b[49m\u001b[43m \u001b[49m\u001b[43msupply\u001b[49m\u001b[43m,\u001b[49m\u001b[43m \u001b[49m\u001b[43mparams\u001b[49m\u001b[43m)\u001b[49m\n\u001b[1;32m     17\u001b[0m     \u001b[38;5;28;01mif\u001b[39;00m equilibrium \u001b[38;5;129;01mis\u001b[39;00m \u001b[38;5;28;01mNone\u001b[39;00m:\n",
                        "File \u001b[0;32m/workspaces/pyMicroeconomics/src/pyMicroeconomics/market/equilibrium/solver.py:38\u001b[0m, in \u001b[0;36msolve_equilibrium\u001b[0;34m(demand, supply, params)\u001b[0m\n\u001b[1;32m     37\u001b[0m \u001b[38;5;28;01mexcept\u001b[39;00m \u001b[38;5;167;01mException\u001b[39;00m \u001b[38;5;28;01mas\u001b[39;00m e:\n\u001b[0;32m---> 38\u001b[0m     \u001b[38;5;28;01mraise\u001b[39;00m \u001b[38;5;167;01mValueError\u001b[39;00m(\u001b[38;5;124mf\u001b[39m\u001b[38;5;124m\"\u001b[39m\u001b[38;5;124mError solving equilibrium: \u001b[39m\u001b[38;5;132;01m{\u001b[39;00m\u001b[38;5;28mstr\u001b[39m(e)\u001b[38;5;132;01m}\u001b[39;00m\u001b[38;5;124m\"\u001b[39m)\n",
                        "\u001b[0;31mValueError\u001b[0m: Error solving equilibrium: Validation error: Cannot convert expression to float",
                        "\nDuring handling of the above exception, another exception occurred:\n",
                        "\u001b[0;31mValueError\u001b[0m                                Traceback (most recent call last)",
                        "Cell \u001b[0;32mIn[3], line 8\u001b[0m\n\u001b[1;32m      5\u001b[0m supply \u001b[38;5;241m=\u001b[39m pm\u001b[38;5;241m.\u001b[39mlinear_supply()\n\u001b[1;32m      7\u001b[0m \u001b[38;5;66;03m# Calculate equilibrium\u001b[39;00m\n\u001b[0;32m----> 8\u001b[0m equilibrium \u001b[38;5;241m=\u001b[39m \u001b[43mpm\u001b[49m\u001b[38;5;241;43m.\u001b[39;49m\u001b[43mmarket_equilibrium\u001b[49m\u001b[43m(\u001b[49m\u001b[43mdemand\u001b[49m\u001b[43m,\u001b[49m\u001b[43m \u001b[49m\u001b[43msupply\u001b[49m\u001b[43m)\u001b[49m\n\u001b[1;32m     10\u001b[0m \u001b[38;5;66;03m# Display results\u001b[39;00m\n\u001b[1;32m     11\u001b[0m pm\u001b[38;5;241m.\u001b[39mdisplay_equilibrium(equilibrium)\n",
                        "File \u001b[0;32m/workspaces/pyMicroeconomics/src/pyMicroeconomics/market/equilibrium/main.py:42\u001b[0m, in \u001b[0;36mmarket_equilibrium\u001b[0;34m(demand, supply, params)\u001b[0m\n\u001b[1;32m     39\u001b[0m     \u001b[38;5;28;01mreturn\u001b[39;00m result\n\u001b[1;32m     41\u001b[0m \u001b[38;5;28;01mexcept\u001b[39;00m \u001b[38;5;167;01mException\u001b[39;00m \u001b[38;5;28;01mas\u001b[39;00m e:\n\u001b[0;32m---> 42\u001b[0m     \u001b[38;5;28;01mraise\u001b[39;00m \u001b[38;5;167;01mValueError\u001b[39;00m(\u001b[38;5;124mf\u001b[39m\u001b[38;5;124m\"\u001b[39m\u001b[38;5;124mError calculating market equilibrium: \u001b[39m\u001b[38;5;132;01m{\u001b[39;00m\u001b[38;5;28mstr\u001b[39m(e)\u001b[38;5;132;01m}\u001b[39;00m\u001b[38;5;124m\"\u001b[39m)\n",
                        "\u001b[0;31mValueError\u001b[0m: Error calculating market equilibrium: Error solving equilibrium: Validation error: Cannot convert expression to float"
                    ]
                }
            ],
            "source": [
                "# Create demand curve: Q = 100 - 2P\n",
                "demand = pm.linear_demand(a_param=100, b_param=2)\n",
                "\n",
                "# Create supply curve: Q = 20 + 3P\n",
                "supply = pm.linear_supply(c_param=20, d_param=3)\n",
                "\n",
                "# Calculate equilibrium\n",
                "equilibrium = pm.market_equilibrium(demand, supply)\n",
                "\n",
                "# Display results\n",
                "pm.display_equilibrium(equilibrium)"
            ]
        },
        {
            "cell_type": "markdown",
            "metadata": {},
            "source": [
                "## 2. Interactive Market Plot\n",
                "\n",
                "We can visualize the market equilibrium with an interactive plot."
            ]
        },
        {
            "cell_type": "code",
            "execution_count": null,
            "metadata": {},
            "outputs": [],
            "source": [
                "pm.plot_equilibrium(equilibrium)"
            ]
        },
        {
            "cell_type": "markdown",
            "metadata": {},
            "source": [
                "## 3. Different Types of Demand and Supply Curves\n",
                "\n",
                "pyMicroeconomics supports various functional forms."
            ]
        },
        {
            "cell_type": "code",
            "execution_count": null,
            "metadata": {},
            "outputs": [],
            "source": [
                "# Power demand: Q = 100P^(-0.5)\n",
                "power_demand = pm.power_demand(a_param=100, b_param=-0.5)\n",
                "\n",
                "# Exponential supply: Q = exp(0.05P)\n",
                "exp_supply = pm.exponential_supply(c_param=0.05, d_param=0)\n",
                "\n",
                "# Calculate and display new equilibrium\n",
                "nonlinear_eq = pm.market_equilibrium(power_demand, exp_supply)\n",
                "pm.display_equilibrium(nonlinear_eq)"
            ]
        },
        {
            "cell_type": "markdown",
            "metadata": {},
            "source": [
                "## 4. Manual Calculations\n",
                "\n",
                "We can also evaluate demand and supply at specific prices."
            ]
        },
        {
            "cell_type": "code",
            "execution_count": null,
            "metadata": {},
            "outputs": [],
            "source": [
                "test_price = 10.0\n",
                "\n",
                "# Calculate quantities\n",
                "demand_quantity = demand.evaluate(test_price)\n",
                "supply_quantity = supply.evaluate(test_price)\n",
                "\n",
                "print(f\"At price = ${test_price:.2f}:\")\n",
                "print(f\"Quantity demanded: {demand_quantity:.2f}\")\n",
                "print(f\"Quantity supplied: {supply_quantity:.2f}\")\n",
                "\n",
                "# Calculate slopes\n",
                "demand_slope = demand.get_slope(test_price)\n",
                "supply_slope = supply.get_slope(test_price)\n",
                "\n",
                "print(f\"\\nSlopes at price = ${test_price:.2f}:\")\n",
                "print(f\"Demand slope: {demand_slope:.2f}\")\n",
                "print(f\"Supply slope: {supply_slope:.2f}\")"
            ]
        },
        {
            "cell_type": "markdown",
            "metadata": {},
            "source": [
                "## 5. Market Analysis\n",
                "\n",
                "Let's analyze consumer and producer surplus."
            ]
        },
        {
            "cell_type": "code",
            "execution_count": null,
            "metadata": {},
            "outputs": [],
            "source": [
                "# Extract values from equilibrium results\n",
                "eq_price = float(equilibrium['Equilibrium_Price'])\n",
                "eq_quantity = float(equilibrium['Equilibrium_Quantity'])\n",
                "consumer_surplus = float(equilibrium['Consumer_Surplus'])\n",
                "producer_surplus = float(equilibrium['Producer_Surplus'])\n",
                "\n",
                "print(f\"Market Analysis at Equilibrium:\")\n",
                "print(f\"Equilibrium Price: ${eq_price:.2f}\")\n",
                "print(f\"Equilibrium Quantity: {eq_quantity:.2f}\")\n",
                "print(f\"Consumer Surplus: ${consumer_surplus:.2f}\")\n",
                "print(f\"Producer Surplus: ${producer_surplus:.2f}\")\n",
                "print(f\"Total Surplus: ${(consumer_surplus + producer_surplus):.2f}\")"
            ]
        },
        {
            "cell_type": "markdown",
            "metadata": {},
            "source": [
                "## 6. Custom Visualization\n",
                "\n",
                "We can create custom plots using the evaluation methods."
            ]
        },
        {
            "cell_type": "code",
            "execution_count": null,
            "metadata": {},
            "outputs": [],
            "source": [
                "# Create price range\n",
                "prices = np.linspace(0, 50, 100)\n",
                "\n",
                "# Calculate quantities\n",
                "demand_quantities = [demand.evaluate(p) for p in prices]\n",
                "supply_quantities = [supply.evaluate(p) for p in prices]\n",
                "\n",
                "# Create plot\n",
                "plt.figure(figsize=(10, 6))\n",
                "plt.plot(demand_quantities, prices, label='Demand', color='blue')\n",
                "plt.plot(supply_quantities, prices, label='Supply', color='orange')\n",
                "plt.plot([eq_quantity], [eq_price], 'ro', label='Equilibrium')\n",
                "\n",
                "plt.title('Market Equilibrium')\n",
                "plt.xlabel('Quantity')\n",
                "plt.ylabel('Price')\n",
                "plt.grid(True)\n",
                "plt.legend()\n",
                "plt.show()"
            ]
        }
    ],
    "metadata": {
        "kernelspec": {
            "display_name": "Python 3",
            "language": "python",
            "name": "python3"
        },
        "language_info": {
            "codemirror_mode": {
                "name": "ipython",
                "version": 3
            },
            "file_extension": ".py",
            "mimetype": "text/x-python",
            "name": "python",
            "nbconvert_exporter": "python",
            "pygments_lexer": "ipython3",
            "version": "3.10.15"
        }
    },
    "nbformat": 4,
    "nbformat_minor": 4
}
